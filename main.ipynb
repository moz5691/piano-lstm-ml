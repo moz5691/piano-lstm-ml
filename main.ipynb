{
 "metadata": {
  "language_info": {
   "codemirror_mode": {
    "name": "ipython",
    "version": 3
   },
   "file_extension": ".py",
   "mimetype": "text/x-python",
   "name": "python",
   "nbconvert_exporter": "python",
   "pygments_lexer": "ipython3",
   "version": "3.8.3-final"
  },
  "orig_nbformat": 2,
  "kernelspec": {
   "name": "python_defaultSpec_1596029879285",
   "display_name": "Python 3.8.3 64-bit ('tf20': venv)"
  }
 },
 "nbformat": 4,
 "nbformat_minor": 2,
 "cells": [
  {
   "cell_type": "code",
   "execution_count": 18,
   "metadata": {
    "tags": []
   },
   "outputs": [
    {
     "output_type": "stream",
     "name": "stdout",
     "text": "midi_songs/Ff7-Jenova_Absolute.mid\n<music21.stream.iterator.RecursiveIterator for Part:Piano @:0>\nmidi_songs/FF8_Shuffle_or_boogie_pc.mid\n<music21.stream.iterator.RecursiveIterator for Part:Piano @:0>\nmidi_songs/ahead_on_our_way_piano.mid\n<music21.stream.iterator.RecursiveIterator for Part:Piano @:0>\nmidi_songs/balamb.mid\n<music21.stream.iterator.RecursiveIterator for Part:Piano @:0>\nmidi_songs/DOS.mid\n<music21.stream.iterator.RecursiveIterator for Part:Piano @:0>\nmidi_songs/FF3_Battle_(Piano).mid\n<music21.stream.iterator.RecursiveIterator for Part:Piano @:0>\nmidi_songs/Suteki_Da_Ne_(Piano_Version).mid\n<music21.stream.iterator.RecursiveIterator for Part:Piano @:0>\nmidi_songs/caitsith.mid\n<music21.stream.iterator.RecursiveIterator for Part:Piano @:0>\nmidi_songs/sera_.mid\n<music21.stream.iterator.RecursiveIterator for Part:Piano @:0>\nmidi_songs/Oppressed.mid\n<music21.stream.iterator.RecursiveIterator for Part:Piano @:0>\nmidi_songs/ff4-airship.mid\n<music21.stream.iterator.RecursiveIterator for Part:Piano @:0>\nmidi_songs/ff7themep.mid\n<music21.stream.iterator.RecursiveIterator for Part:Piano @:0>\nmidi_songs/FFVII_BATTLE.mid\n<music21.stream.iterator.RecursiveIterator for Part:Piano @:0>\nmidi_songs/electric_de_chocobo.mid\n<music21.stream.iterator.RecursiveIterator for Part:Piano @:0>\nmidi_songs/Ff7-One_Winged.mid\n<music21.stream.iterator.RecursiveIterator for Part:Piano @:0>\nmidi_songs/Finalfantasy5gilgameshp.mid\n<music21.stream.iterator.RecursiveIterator for Part:Piano @:0>\nmidi_songs/Cids.mid\n<music21.stream.iterator.RecursiveIterator for Part:Piano @:0>\nmidi_songs/lurk_in_dark.mid\n<music21.stream.iterator.RecursiveIterator for Part:Piano @:0>\nmidi_songs/FFX_-_Ending_Theme_(Piano_Version)_-_by_Angel_FF.mid\n<music21.stream.iterator.RecursiveIterator for Part:Piano @:0>\nmidi_songs/ff4pclov.mid\n<music21.stream.iterator.RecursiveIterator for Part:Piano @:0>\nmidi_songs/AT.mid\n<music21.stream.iterator.RecursiveIterator for Part:Piano @:0>\nmidi_songs/Final_Fantasy_7_-_Judgement_Day_Piano.mid\n<music21.stream.iterator.RecursiveIterator for Part:None @:0>\nmidi_songs/8.mid\n<music21.stream.iterator.RecursiveIterator for Part:Piano @:0>\nmidi_songs/sobf.mid\n<music21.stream.iterator.RecursiveIterator for Part:Piano @:0>\nmidi_songs/In_Zanarkand.mid\n<music21.stream.iterator.RecursiveIterator for Part:Piano @:0>\nmidi_songs/waltz_de_choco.mid\n<music21.stream.iterator.RecursiveIterator for Part:Piano @:0>\nmidi_songs/z_aeristhemepiano.mid\n<music21.stream.iterator.RecursiveIterator for Part:Piano @:0>\nmidi_songs/Final_Fantasy_Matouyas_Cave_Piano.mid\n<music21.stream.iterator.RecursiveIterator for Part:Piano @:0>\nmidi_songs/redwings.mid\n<music21.stream.iterator.RecursiveIterator for Part:Piano @:0>\nmidi_songs/roseofmay-piano.mid\n<music21.stream.iterator.RecursiveIterator for Part:Piano @:0>\nmidi_songs/ff4_piano_collections-main_theme.mid\n<music21.stream.iterator.RecursiveIterator for Part:Piano @:0>\nmidi_songs/dontbeafraid.mid\n<music21.stream.iterator.RecursiveIterator for Part:Piano @:0>\nmidi_songs/dayafter.mid\n<music21.stream.iterator.RecursiveIterator for Part:Piano @:0>\nmidi_songs/FF6epitaph_piano.mid\n<music21.stream.iterator.RecursiveIterator for Part:Piano @:0>\nmidi_songs/FFIX_Piano.mid\n<music21.stream.iterator.RecursiveIterator for Part:Piano @:0>\nmidi_songs/FFIII_Edgar_And_Sabin_Piano.mid\n<music21.stream.iterator.RecursiveIterator for Part:Piano @:0>\nmidi_songs/ultros.mid\n<music21.stream.iterator.RecursiveIterator for Part:Piano @:0>\nmidi_songs/0fithos.mid\n<music21.stream.iterator.RecursiveIterator for Part:Piano @:0>\nmidi_songs/BlueStone_LastDungeon.mid\n<music21.stream.iterator.RecursiveIterator for Part:Piano @:0>\nmidi_songs/ff8-lfp.mid\n<music21.stream.iterator.RecursiveIterator for Part:Piano @:0>\nmidi_songs/rufus.mid\n<music21.stream.iterator.RecursiveIterator for Part:Piano @:0>\nmidi_songs/ff4-fight1.mid\n<music21.stream.iterator.RecursiveIterator for Part:Piano @:0>\nmidi_songs/Life_Stream.mid\n<music21.stream.iterator.RecursiveIterator for Part:Piano @:0>\nmidi_songs/Zelda_Overworld.mid\n<music21.stream.iterator.RecursiveIterator for Part:Piano @:0>\nmidi_songs/JENOVA.mid\n<music21.stream.iterator.RecursiveIterator for Part:Piano @:0>\nmidi_songs/thenightmarebegins.mid\n<music21.stream.iterator.RecursiveIterator for Part:Piano @:0>\nmidi_songs/FF4.mid\n<music21.stream.iterator.RecursiveIterator for Part:Piano @:0>\nmidi_songs/figaro.mid\n<music21.stream.iterator.RecursiveIterator for Part:Piano @:0>\nmidi_songs/Fiend_Battle_(Piano).mid\n<music21.stream.iterator.RecursiveIterator for Part:Piano @:0>\nmidi_songs/cosmo.mid\n<music21.stream.iterator.RecursiveIterator for Part:Piano @:0>\nmidi_songs/Kingdom_Hearts_Dearly_Beloved.mid\n<music21.stream.iterator.RecursiveIterator for Part:Piano @:0>\nmidi_songs/pkelite4.mid\n<music21.stream.iterator.RecursiveIterator for Part:Piano @:0>\nmidi_songs/tifap.mid\n<music21.stream.iterator.RecursiveIterator for Part:Piano @:0>\nmidi_songs/relmstheme-piano.mid\n<music21.stream.iterator.RecursiveIterator for Part:Piano @:0>\nmidi_songs/ff11_awakening_piano.mid\n<music21.stream.iterator.RecursiveIterator for Part:Piano @:0>\nmidi_songs/ff7-mainmidi.mid\n<music21.stream.iterator.RecursiveIterator for Part:Piano @:0>\nmidi_songs/ff6shap.mid\n<music21.stream.iterator.RecursiveIterator for Part:Piano @:0>\nmidi_songs/gerudo.mid\n<music21.stream.iterator.RecursiveIterator for Part:Piano @:0>\nmidi_songs/OTD5YA.mid\n<music21.stream.iterator.RecursiveIterator for Part:Piano @:0>\nmidi_songs/Rydia_pc.mid\n<music21.stream.iterator.RecursiveIterator for Part:Piano @:0>\nmidi_songs/ultimafro.mid\n<music21.stream.iterator.RecursiveIterator for Part:Piano @:0>\nmidi_songs/Ff4-BattleLust.mid\n<music21.stream.iterator.RecursiveIterator for Part:Piano @:0>\nmidi_songs/great_war.mid\n<music21.stream.iterator.RecursiveIterator for Part:Piano @:0>\nmidi_songs/tpirtsd-piano.mid\n<music21.stream.iterator.RecursiveIterator for Part:Piano @:0>\nmidi_songs/goldsaucer.mid\n<music21.stream.iterator.RecursiveIterator for Part:Piano @:0>\nmidi_songs/ViviinAlexandria.mid\n<music21.stream.iterator.RecursiveIterator for Part:Piano @:0>\nmidi_songs/EyesOnMePiano.mid\n<music21.stream.iterator.RecursiveIterator for Part:Piano @:0>\nmidi_songs/fortresscondor.mid\n<music21.stream.iterator.RecursiveIterator for Part:Piano @:0>\nmidi_songs/Still_Alive-1.mid\n<music21.stream.iterator.RecursiveIterator for Part:Piano @:0>\nmidi_songs/Fyw_piano.mid\n<music21.stream.iterator.RecursiveIterator for Part:Piano @:0>\nmidi_songs/VincentPiano.mid\n<music21.stream.iterator.RecursiveIterator for Part:Piano @:0>\nmidi_songs/thoughts.mid\n<music21.stream.iterator.RecursiveIterator for Part:Piano @:0>\nmidi_songs/Ff7-Cinco.mid\n<music21.stream.iterator.RecursiveIterator for Part:Piano @:0>\nmidi_songs/sandy.mid\n<music21.stream.iterator.RecursiveIterator for Part:Piano @:0>\nmidi_songs/costadsol.mid\n<music21.stream.iterator.RecursiveIterator for Part:Piano @:0>\nmidi_songs/path_of_repentance.mid\n<music21.stream.iterator.RecursiveIterator for Part:Piano @:0>\nmidi_songs/ff4-town.mid\n<music21.stream.iterator.RecursiveIterator for Part:Piano @:0>\nmidi_songs/mining.mid\n<music21.stream.iterator.RecursiveIterator for Part:Piano @:0>\nmidi_songs/decisive.mid\n<music21.stream.iterator.RecursiveIterator for Part:Piano @:0>\nmidi_songs/Kingdom_Hearts_Traverse_Town.mid\n<music21.stream.iterator.RecursiveIterator for Part:Piano @:0>\nmidi_songs/braska.mid\n<music21.stream.iterator.RecursiveIterator for Part:Piano @:0>\nmidi_songs/HighwindTakestotheSkies.mid\n<music21.stream.iterator.RecursiveIterator for Part:Piano @:0>\nmidi_songs/Gold_Silver_Rival_Battle.mid\n<music21.stream.iterator.RecursiveIterator for Part:Piano @:0>\nmidi_songs/Fierce_Battle_(Piano).mid\n<music21.stream.iterator.RecursiveIterator for Part:Piano @:0>\nmidi_songs/Rachel_Piano_tempofix.mid\n<music21.stream.iterator.RecursiveIterator for Part:Piano @:0>\nmidi_songs/FF3_Third_Phase_Final_(Piano).mid\n<music21.stream.iterator.RecursiveIterator for Part:Piano @:0>\nmidi_songs/Eternal_Harvest.mid\n<music21.stream.iterator.RecursiveIterator for Part:Piano @:0>\nmidi_songs/ff1battp.mid\n<music21.stream.iterator.RecursiveIterator for Part:Piano @:0>\nmidi_songs/Finalfantasy6fanfarecomplete.mid\n<music21.stream.iterator.RecursiveIterator for Part:Piano @:0>\nmidi_songs/FFIXQuMarshP.mid\n<music21.stream.iterator.RecursiveIterator for Part:Piano @:0>\nmidi_songs/bcm.mid\n<music21.stream.iterator.RecursiveIterator for Part:Piano @:0>\nmidi_songs/traitor.mid\n<music21.stream.iterator.RecursiveIterator for Part:Piano @:0>\n"
    }
   ],
   "source": [
    "import glob\n",
    "from music21 import converter, instrument, note, chord \n",
    "\n",
    "notes = []\n",
    "\n",
    "\n",
    "\n",
    "for file in glob.glob(\"midi_songs/*.mid\"):\n",
    "    print(file)\n",
    "    midi = converter.parse(file)\n",
    "    notes_to_parse = None \n",
    "\n",
    "    parts = instrument.partitionByInstrument(midi)\n",
    "\n",
    "    if parts:\n",
    "        notes_to_parse = parts.parts[0].recurse()\n",
    "    else:\n",
    "        notes_to_parse = midi.flat.notes\n",
    "    for element in notes_to_parse:\n",
    "        if isinstance(element, note.Note):\n",
    "            notes.append(str(element.pitch))\n",
    "        elif isinstance(element, chord.Chord):\n",
    "            notes.append('.'.join(str(n) for n in element.normalOrder))"
   ]
  },
  {
   "cell_type": "code",
   "execution_count": 17,
   "metadata": {},
   "outputs": [
    {
     "output_type": "execute_result",
     "data": {
      "text/plain": "'/Users/ca/code/data-bootcamp/Classical-Piano-Composer'"
     },
     "metadata": {},
     "execution_count": 17
    }
   ],
   "source": [
    "%pwd"
   ]
  },
  {
   "cell_type": "code",
   "execution_count": 24,
   "metadata": {},
   "outputs": [
    {
     "output_type": "execute_result",
     "data": {
      "text/plain": "['F3', 'F3', 'B-4', 'F3', 'G4']"
     },
     "metadata": {},
     "execution_count": 24
    }
   ],
   "source": [
    "notes[0:5]"
   ]
  },
  {
   "cell_type": "code",
   "execution_count": 27,
   "metadata": {},
   "outputs": [],
   "source": [
    "sequence_length = 100\n",
    "\n",
    "pitchnames = sorted(set(item for item in notes))\n",
    "note_to_int = dict((note, number) for number, note in enumerate(pitchnames))\n",
    "\n",
    "network_input = []\n",
    "network_output = []\n",
    "\n",
    "for i in range(0, len(notes) - sequence_length, 1):\n",
    "    sequence_in = notes[i: i+sequence_length]\n",
    "    sequence_out = notes[i+sequence_length ]\n",
    "    network_input.append([note_to_int[char] for char in sequence_in])\n",
    "    network_output.append(note_to_int[sequence_out])\n",
    "\n"
   ]
  },
  {
   "cell_type": "code",
   "execution_count": 36,
   "metadata": {
    "tags": []
   },
   "outputs": [
    {
     "output_type": "stream",
     "name": "stdout",
     "text": "358\n"
    }
   ],
   "source": [
    "import numpy as np\n",
    "from tensorflow.keras.utils import to_categorical\n",
    "\n",
    "n_vocab = len(set(notes))\n",
    "\n",
    "network_input = np.reshape(network_input, (len(network_input), sequence_length, 1))\n",
    "\n",
    "print(n_vocab)\n",
    "network_input = network_input / float(n_vocab)\n",
    "\n",
    "network_output = to_categorical(network_output)"
   ]
  },
  {
   "cell_type": "code",
   "execution_count": 40,
   "metadata": {},
   "outputs": [
    {
     "output_type": "execute_result",
     "data": {
      "text/plain": "array([0., 0., 0., 0., 0., 0., 0., 0., 0., 0., 0., 0., 0., 0., 0., 0., 0.,\n       0., 0., 0., 0., 0., 0., 0., 0., 0., 0., 0., 0., 0., 0., 0., 0., 0.,\n       0., 0., 0., 0., 0., 0., 0., 0., 0., 0., 0., 0., 0., 0., 0., 0., 0.,\n       0., 0., 0., 0., 0., 0., 0., 0., 0., 0., 0., 0., 0., 0., 0., 0., 0.,\n       0., 0., 0., 0., 0., 0., 0., 0., 0., 0., 0., 0., 0., 0., 0., 0., 0.,\n       0., 0., 0., 0., 0., 0., 0., 0., 0., 0., 0., 0., 0., 0., 0., 0., 0.,\n       0., 0., 0., 0., 0., 0., 0., 0., 0., 0., 0., 0., 0., 0., 0., 0., 0.,\n       0., 0., 0., 0., 0., 0., 0., 0., 0., 0., 0., 0., 0., 0., 0., 0., 0.,\n       0., 0., 0., 0., 0., 0., 0., 0., 0., 0., 0., 0., 0., 0., 0., 0., 0.,\n       0., 0., 0., 0., 0., 0., 0., 0., 0., 0., 0., 0., 0., 0., 0., 0., 0.,\n       0., 0., 0., 0., 0., 0., 0., 0., 0., 0., 0., 0., 0., 0., 0., 0., 0.,\n       0., 0., 0., 0., 0., 0., 0., 0., 0., 0., 0., 0., 0., 0., 0., 0., 0.,\n       0., 0., 0., 0., 0., 0., 0., 0., 0., 0., 0., 0., 0., 0., 0., 0., 0.,\n       0., 0., 0., 0., 0., 0., 0., 0., 0., 0., 0., 0., 0., 0., 0., 0., 0.,\n       0., 0., 0., 0., 0., 0., 0., 0., 0., 0., 0., 0., 0., 0., 0., 0., 0.,\n       0., 0., 0., 0., 0., 0., 0., 0., 0., 0., 0., 0., 0., 0., 0., 0., 0.,\n       0., 0., 0., 0., 0., 0., 0., 0., 0., 0., 0., 0., 0., 0., 0., 0., 0.,\n       0., 0., 0., 0., 0., 0., 0., 0., 0., 0., 0., 0., 0., 0., 0., 0., 0.,\n       0., 0., 0., 0., 0., 0., 0., 0., 0., 0., 0., 0., 0., 0., 0., 0., 0.,\n       0., 0., 0., 0., 0., 0., 0., 0., 0., 0., 0., 0., 0., 0., 0., 0., 0.,\n       0., 0., 0., 0., 0., 0., 0., 0., 0., 0., 1., 0., 0., 0., 0., 0., 0.,\n       0.], dtype=float32)"
     },
     "metadata": {},
     "execution_count": 40
    }
   ],
   "source": [
    "network_output[0]"
   ]
  },
  {
   "cell_type": "code",
   "execution_count": 46,
   "metadata": {},
   "outputs": [],
   "source": [
    "from tensorflow.keras.models import Sequential\n",
    "from tensorflow.keras.layers import LSTM, Dense, Dropout, Activation\n",
    "from tensorflow.keras.callbacks import ModelCheckpoint\n",
    "\n",
    "model = Sequential()\n",
    "model.add(LSTM(256, input_shape=(network_input.shape[1], network_input.shape[2]), return_sequences=True))\n",
    "model.add(Dropout(0.3))\n",
    "model.add(LSTM(256))\n",
    "model.add(Dense(256))\n",
    "model.add(Dropout(0.3))\n",
    "model.add(Dense(n_vocab))\n",
    "model.add(Activation('softmax'))\n",
    "model.compile(loss='categorical_crossentropy', optimizer='adam')\n",
    "\n"
   ]
  },
  {
   "cell_type": "code",
   "execution_count": 47,
   "metadata": {
    "tags": []
   },
   "outputs": [
    {
     "output_type": "stream",
     "name": "stdout",
     "text": "Epoch 1/200\n892/892 [==============================] - 358s 401ms/step - loss: 4.7623\nEpoch 2/200\n892/892 [==============================] - 1169s 1s/step - loss: 4.7201\nEpoch 3/200\n892/892 [==============================] - 355s 398ms/step - loss: 4.7147\nEpoch 4/200\n892/892 [==============================] - 1134s 1s/step - loss: 4.7310\nEpoch 5/200\n152/892 [====>.........................] - ETA: 4:55 - loss: 4.6856"
    },
    {
     "output_type": "error",
     "ename": "KeyboardInterrupt",
     "evalue": "",
     "traceback": [
      "\u001b[0;31m---------------------------------------------------------------------------\u001b[0m",
      "\u001b[0;31mKeyboardInterrupt\u001b[0m                         Traceback (most recent call last)",
      "\u001b[0;32m<ipython-input-47-cb4af0ccd2d6>\u001b[0m in \u001b[0;36m<module>\u001b[0;34m\u001b[0m\n\u001b[1;32m      7\u001b[0m )    \n\u001b[1;32m      8\u001b[0m \u001b[0mcallbacks_list\u001b[0m \u001b[0;34m=\u001b[0m \u001b[0;34m[\u001b[0m\u001b[0mcheckpoint\u001b[0m\u001b[0;34m]\u001b[0m\u001b[0;34m\u001b[0m\u001b[0;34m\u001b[0m\u001b[0m\n\u001b[0;32m----> 9\u001b[0;31m \u001b[0mmodel\u001b[0m\u001b[0;34m.\u001b[0m\u001b[0mfit\u001b[0m\u001b[0;34m(\u001b[0m\u001b[0mnetwork_input\u001b[0m\u001b[0;34m,\u001b[0m \u001b[0mnetwork_output\u001b[0m\u001b[0;34m,\u001b[0m \u001b[0mepochs\u001b[0m\u001b[0;34m=\u001b[0m\u001b[0;36m200\u001b[0m\u001b[0;34m,\u001b[0m \u001b[0mbatch_size\u001b[0m\u001b[0;34m=\u001b[0m\u001b[0;36m64\u001b[0m\u001b[0;34m,\u001b[0m \u001b[0mcallbacks\u001b[0m\u001b[0;34m=\u001b[0m\u001b[0mcallbacks_list\u001b[0m\u001b[0;34m)\u001b[0m\u001b[0;34m\u001b[0m\u001b[0;34m\u001b[0m\u001b[0m\n\u001b[0m",
      "\u001b[0;32m~/.virtualenvs/tf20/lib/python3.8/site-packages/tensorflow/python/keras/engine/training.py\u001b[0m in \u001b[0;36m_method_wrapper\u001b[0;34m(self, *args, **kwargs)\u001b[0m\n\u001b[1;32m     64\u001b[0m   \u001b[0;32mdef\u001b[0m \u001b[0m_method_wrapper\u001b[0m\u001b[0;34m(\u001b[0m\u001b[0mself\u001b[0m\u001b[0;34m,\u001b[0m \u001b[0;34m*\u001b[0m\u001b[0margs\u001b[0m\u001b[0;34m,\u001b[0m \u001b[0;34m**\u001b[0m\u001b[0mkwargs\u001b[0m\u001b[0;34m)\u001b[0m\u001b[0;34m:\u001b[0m\u001b[0;34m\u001b[0m\u001b[0;34m\u001b[0m\u001b[0m\n\u001b[1;32m     65\u001b[0m     \u001b[0;32mif\u001b[0m \u001b[0;32mnot\u001b[0m \u001b[0mself\u001b[0m\u001b[0;34m.\u001b[0m\u001b[0m_in_multi_worker_mode\u001b[0m\u001b[0;34m(\u001b[0m\u001b[0;34m)\u001b[0m\u001b[0;34m:\u001b[0m  \u001b[0;31m# pylint: disable=protected-access\u001b[0m\u001b[0;34m\u001b[0m\u001b[0;34m\u001b[0m\u001b[0m\n\u001b[0;32m---> 66\u001b[0;31m       \u001b[0;32mreturn\u001b[0m \u001b[0mmethod\u001b[0m\u001b[0;34m(\u001b[0m\u001b[0mself\u001b[0m\u001b[0;34m,\u001b[0m \u001b[0;34m*\u001b[0m\u001b[0margs\u001b[0m\u001b[0;34m,\u001b[0m \u001b[0;34m**\u001b[0m\u001b[0mkwargs\u001b[0m\u001b[0;34m)\u001b[0m\u001b[0;34m\u001b[0m\u001b[0;34m\u001b[0m\u001b[0m\n\u001b[0m\u001b[1;32m     67\u001b[0m \u001b[0;34m\u001b[0m\u001b[0m\n\u001b[1;32m     68\u001b[0m     \u001b[0;31m# Running inside `run_distribute_coordinator` already.\u001b[0m\u001b[0;34m\u001b[0m\u001b[0;34m\u001b[0m\u001b[0;34m\u001b[0m\u001b[0m\n",
      "\u001b[0;32m~/.virtualenvs/tf20/lib/python3.8/site-packages/tensorflow/python/keras/engine/training.py\u001b[0m in \u001b[0;36mfit\u001b[0;34m(self, x, y, batch_size, epochs, verbose, callbacks, validation_split, validation_data, shuffle, class_weight, sample_weight, initial_epoch, steps_per_epoch, validation_steps, validation_batch_size, validation_freq, max_queue_size, workers, use_multiprocessing)\u001b[0m\n\u001b[1;32m    846\u001b[0m                 batch_size=batch_size):\n\u001b[1;32m    847\u001b[0m               \u001b[0mcallbacks\u001b[0m\u001b[0;34m.\u001b[0m\u001b[0mon_train_batch_begin\u001b[0m\u001b[0;34m(\u001b[0m\u001b[0mstep\u001b[0m\u001b[0;34m)\u001b[0m\u001b[0;34m\u001b[0m\u001b[0;34m\u001b[0m\u001b[0m\n\u001b[0;32m--> 848\u001b[0;31m               \u001b[0mtmp_logs\u001b[0m \u001b[0;34m=\u001b[0m \u001b[0mtrain_function\u001b[0m\u001b[0;34m(\u001b[0m\u001b[0miterator\u001b[0m\u001b[0;34m)\u001b[0m\u001b[0;34m\u001b[0m\u001b[0;34m\u001b[0m\u001b[0m\n\u001b[0m\u001b[1;32m    849\u001b[0m               \u001b[0;31m# Catch OutOfRangeError for Datasets of unknown size.\u001b[0m\u001b[0;34m\u001b[0m\u001b[0;34m\u001b[0m\u001b[0;34m\u001b[0m\u001b[0m\n\u001b[1;32m    850\u001b[0m               \u001b[0;31m# This blocks until the batch has finished executing.\u001b[0m\u001b[0;34m\u001b[0m\u001b[0;34m\u001b[0m\u001b[0;34m\u001b[0m\u001b[0m\n",
      "\u001b[0;32m~/.virtualenvs/tf20/lib/python3.8/site-packages/tensorflow/python/eager/def_function.py\u001b[0m in \u001b[0;36m__call__\u001b[0;34m(self, *args, **kwds)\u001b[0m\n\u001b[1;32m    578\u001b[0m         \u001b[0mxla_context\u001b[0m\u001b[0;34m.\u001b[0m\u001b[0mExit\u001b[0m\u001b[0;34m(\u001b[0m\u001b[0;34m)\u001b[0m\u001b[0;34m\u001b[0m\u001b[0;34m\u001b[0m\u001b[0m\n\u001b[1;32m    579\u001b[0m     \u001b[0;32melse\u001b[0m\u001b[0;34m:\u001b[0m\u001b[0;34m\u001b[0m\u001b[0;34m\u001b[0m\u001b[0m\n\u001b[0;32m--> 580\u001b[0;31m       \u001b[0mresult\u001b[0m \u001b[0;34m=\u001b[0m \u001b[0mself\u001b[0m\u001b[0;34m.\u001b[0m\u001b[0m_call\u001b[0m\u001b[0;34m(\u001b[0m\u001b[0;34m*\u001b[0m\u001b[0margs\u001b[0m\u001b[0;34m,\u001b[0m \u001b[0;34m**\u001b[0m\u001b[0mkwds\u001b[0m\u001b[0;34m)\u001b[0m\u001b[0;34m\u001b[0m\u001b[0;34m\u001b[0m\u001b[0m\n\u001b[0m\u001b[1;32m    581\u001b[0m \u001b[0;34m\u001b[0m\u001b[0m\n\u001b[1;32m    582\u001b[0m     \u001b[0;32mif\u001b[0m \u001b[0mtracing_count\u001b[0m \u001b[0;34m==\u001b[0m \u001b[0mself\u001b[0m\u001b[0;34m.\u001b[0m\u001b[0m_get_tracing_count\u001b[0m\u001b[0;34m(\u001b[0m\u001b[0;34m)\u001b[0m\u001b[0;34m:\u001b[0m\u001b[0;34m\u001b[0m\u001b[0;34m\u001b[0m\u001b[0m\n",
      "\u001b[0;32m~/.virtualenvs/tf20/lib/python3.8/site-packages/tensorflow/python/eager/def_function.py\u001b[0m in \u001b[0;36m_call\u001b[0;34m(self, *args, **kwds)\u001b[0m\n\u001b[1;32m    609\u001b[0m       \u001b[0;31m# In this case we have created variables on the first call, so we run the\u001b[0m\u001b[0;34m\u001b[0m\u001b[0;34m\u001b[0m\u001b[0;34m\u001b[0m\u001b[0m\n\u001b[1;32m    610\u001b[0m       \u001b[0;31m# defunned version which is guaranteed to never create variables.\u001b[0m\u001b[0;34m\u001b[0m\u001b[0;34m\u001b[0m\u001b[0;34m\u001b[0m\u001b[0m\n\u001b[0;32m--> 611\u001b[0;31m       \u001b[0;32mreturn\u001b[0m \u001b[0mself\u001b[0m\u001b[0;34m.\u001b[0m\u001b[0m_stateless_fn\u001b[0m\u001b[0;34m(\u001b[0m\u001b[0;34m*\u001b[0m\u001b[0margs\u001b[0m\u001b[0;34m,\u001b[0m \u001b[0;34m**\u001b[0m\u001b[0mkwds\u001b[0m\u001b[0;34m)\u001b[0m  \u001b[0;31m# pylint: disable=not-callable\u001b[0m\u001b[0;34m\u001b[0m\u001b[0;34m\u001b[0m\u001b[0m\n\u001b[0m\u001b[1;32m    612\u001b[0m     \u001b[0;32melif\u001b[0m \u001b[0mself\u001b[0m\u001b[0;34m.\u001b[0m\u001b[0m_stateful_fn\u001b[0m \u001b[0;32mis\u001b[0m \u001b[0;32mnot\u001b[0m \u001b[0;32mNone\u001b[0m\u001b[0;34m:\u001b[0m\u001b[0;34m\u001b[0m\u001b[0;34m\u001b[0m\u001b[0m\n\u001b[1;32m    613\u001b[0m       \u001b[0;31m# Release the lock early so that multiple threads can perform the call\u001b[0m\u001b[0;34m\u001b[0m\u001b[0;34m\u001b[0m\u001b[0;34m\u001b[0m\u001b[0m\n",
      "\u001b[0;32m~/.virtualenvs/tf20/lib/python3.8/site-packages/tensorflow/python/eager/function.py\u001b[0m in \u001b[0;36m__call__\u001b[0;34m(self, *args, **kwargs)\u001b[0m\n\u001b[1;32m   2418\u001b[0m     \u001b[0;32mwith\u001b[0m \u001b[0mself\u001b[0m\u001b[0;34m.\u001b[0m\u001b[0m_lock\u001b[0m\u001b[0;34m:\u001b[0m\u001b[0;34m\u001b[0m\u001b[0;34m\u001b[0m\u001b[0m\n\u001b[1;32m   2419\u001b[0m       \u001b[0mgraph_function\u001b[0m\u001b[0;34m,\u001b[0m \u001b[0margs\u001b[0m\u001b[0;34m,\u001b[0m \u001b[0mkwargs\u001b[0m \u001b[0;34m=\u001b[0m \u001b[0mself\u001b[0m\u001b[0;34m.\u001b[0m\u001b[0m_maybe_define_function\u001b[0m\u001b[0;34m(\u001b[0m\u001b[0margs\u001b[0m\u001b[0;34m,\u001b[0m \u001b[0mkwargs\u001b[0m\u001b[0;34m)\u001b[0m\u001b[0;34m\u001b[0m\u001b[0;34m\u001b[0m\u001b[0m\n\u001b[0;32m-> 2420\u001b[0;31m     \u001b[0;32mreturn\u001b[0m \u001b[0mgraph_function\u001b[0m\u001b[0;34m.\u001b[0m\u001b[0m_filtered_call\u001b[0m\u001b[0;34m(\u001b[0m\u001b[0margs\u001b[0m\u001b[0;34m,\u001b[0m \u001b[0mkwargs\u001b[0m\u001b[0;34m)\u001b[0m  \u001b[0;31m# pylint: disable=protected-access\u001b[0m\u001b[0;34m\u001b[0m\u001b[0;34m\u001b[0m\u001b[0m\n\u001b[0m\u001b[1;32m   2421\u001b[0m \u001b[0;34m\u001b[0m\u001b[0m\n\u001b[1;32m   2422\u001b[0m   \u001b[0;34m@\u001b[0m\u001b[0mproperty\u001b[0m\u001b[0;34m\u001b[0m\u001b[0;34m\u001b[0m\u001b[0m\n",
      "\u001b[0;32m~/.virtualenvs/tf20/lib/python3.8/site-packages/tensorflow/python/eager/function.py\u001b[0m in \u001b[0;36m_filtered_call\u001b[0;34m(self, args, kwargs)\u001b[0m\n\u001b[1;32m   1659\u001b[0m       \u001b[0;31m`\u001b[0m\u001b[0margs\u001b[0m\u001b[0;31m`\u001b[0m \u001b[0;32mand\u001b[0m\u001b[0;31m \u001b[0m\u001b[0;31m`\u001b[0m\u001b[0mkwargs\u001b[0m\u001b[0;31m`\u001b[0m\u001b[0;34m.\u001b[0m\u001b[0;34m\u001b[0m\u001b[0;34m\u001b[0m\u001b[0m\n\u001b[1;32m   1660\u001b[0m     \"\"\"\n\u001b[0;32m-> 1661\u001b[0;31m     return self._call_flat(\n\u001b[0m\u001b[1;32m   1662\u001b[0m         (t for t in nest.flatten((args, kwargs), expand_composites=True)\n\u001b[1;32m   1663\u001b[0m          if isinstance(t, (ops.Tensor,\n",
      "\u001b[0;32m~/.virtualenvs/tf20/lib/python3.8/site-packages/tensorflow/python/eager/function.py\u001b[0m in \u001b[0;36m_call_flat\u001b[0;34m(self, args, captured_inputs, cancellation_manager)\u001b[0m\n\u001b[1;32m   1743\u001b[0m         and executing_eagerly):\n\u001b[1;32m   1744\u001b[0m       \u001b[0;31m# No tape is watching; skip to running the function.\u001b[0m\u001b[0;34m\u001b[0m\u001b[0;34m\u001b[0m\u001b[0;34m\u001b[0m\u001b[0m\n\u001b[0;32m-> 1745\u001b[0;31m       return self._build_call_outputs(self._inference_function.call(\n\u001b[0m\u001b[1;32m   1746\u001b[0m           ctx, args, cancellation_manager=cancellation_manager))\n\u001b[1;32m   1747\u001b[0m     forward_backward = self._select_forward_and_backward_functions(\n",
      "\u001b[0;32m~/.virtualenvs/tf20/lib/python3.8/site-packages/tensorflow/python/eager/function.py\u001b[0m in \u001b[0;36mcall\u001b[0;34m(self, ctx, args, cancellation_manager)\u001b[0m\n\u001b[1;32m    591\u001b[0m       \u001b[0;32mwith\u001b[0m \u001b[0m_InterpolateFunctionError\u001b[0m\u001b[0;34m(\u001b[0m\u001b[0mself\u001b[0m\u001b[0;34m)\u001b[0m\u001b[0;34m:\u001b[0m\u001b[0;34m\u001b[0m\u001b[0;34m\u001b[0m\u001b[0m\n\u001b[1;32m    592\u001b[0m         \u001b[0;32mif\u001b[0m \u001b[0mcancellation_manager\u001b[0m \u001b[0;32mis\u001b[0m \u001b[0;32mNone\u001b[0m\u001b[0;34m:\u001b[0m\u001b[0;34m\u001b[0m\u001b[0;34m\u001b[0m\u001b[0m\n\u001b[0;32m--> 593\u001b[0;31m           outputs = execute.execute(\n\u001b[0m\u001b[1;32m    594\u001b[0m               \u001b[0mstr\u001b[0m\u001b[0;34m(\u001b[0m\u001b[0mself\u001b[0m\u001b[0;34m.\u001b[0m\u001b[0msignature\u001b[0m\u001b[0;34m.\u001b[0m\u001b[0mname\u001b[0m\u001b[0;34m)\u001b[0m\u001b[0;34m,\u001b[0m\u001b[0;34m\u001b[0m\u001b[0;34m\u001b[0m\u001b[0m\n\u001b[1;32m    595\u001b[0m               \u001b[0mnum_outputs\u001b[0m\u001b[0;34m=\u001b[0m\u001b[0mself\u001b[0m\u001b[0;34m.\u001b[0m\u001b[0m_num_outputs\u001b[0m\u001b[0;34m,\u001b[0m\u001b[0;34m\u001b[0m\u001b[0;34m\u001b[0m\u001b[0m\n",
      "\u001b[0;32m~/.virtualenvs/tf20/lib/python3.8/site-packages/tensorflow/python/eager/execute.py\u001b[0m in \u001b[0;36mquick_execute\u001b[0;34m(op_name, num_outputs, inputs, attrs, ctx, name)\u001b[0m\n\u001b[1;32m     57\u001b[0m   \u001b[0;32mtry\u001b[0m\u001b[0;34m:\u001b[0m\u001b[0;34m\u001b[0m\u001b[0;34m\u001b[0m\u001b[0m\n\u001b[1;32m     58\u001b[0m     \u001b[0mctx\u001b[0m\u001b[0;34m.\u001b[0m\u001b[0mensure_initialized\u001b[0m\u001b[0;34m(\u001b[0m\u001b[0;34m)\u001b[0m\u001b[0;34m\u001b[0m\u001b[0;34m\u001b[0m\u001b[0m\n\u001b[0;32m---> 59\u001b[0;31m     tensors = pywrap_tfe.TFE_Py_Execute(ctx._handle, device_name, op_name,\n\u001b[0m\u001b[1;32m     60\u001b[0m                                         inputs, attrs, num_outputs)\n\u001b[1;32m     61\u001b[0m   \u001b[0;32mexcept\u001b[0m \u001b[0mcore\u001b[0m\u001b[0;34m.\u001b[0m\u001b[0m_NotOkStatusException\u001b[0m \u001b[0;32mas\u001b[0m \u001b[0me\u001b[0m\u001b[0;34m:\u001b[0m\u001b[0;34m\u001b[0m\u001b[0;34m\u001b[0m\u001b[0m\n",
      "\u001b[0;31mKeyboardInterrupt\u001b[0m: "
     ]
    }
   ],
   "source": [
    "filepath = \"weights-improvement-{epoch:02d}-{loss:.4f}-bigger.hdf5\"    \n",
    "checkpoint = ModelCheckpoint(\n",
    "    filepath, monitor='loss', \n",
    "    verbose=0,        \n",
    "    save_best_only=True,        \n",
    "    mode='min'\n",
    ")    \n",
    "callbacks_list = [checkpoint]     \n",
    "model.fit(network_input, network_output, epochs=200, batch_size=64, callbacks=callbacks_list)"
   ]
  },
  {
   "cell_type": "code",
   "execution_count": null,
   "metadata": {},
   "outputs": [],
   "source": [
    "# test"
   ]
  }
 ]
}